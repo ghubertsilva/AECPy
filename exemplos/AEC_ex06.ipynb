{
 "cells": [
  {
   "cell_type": "markdown",
   "metadata": {},
   "source": [
    "**Universidade Federal do Rio Grande do Sul**  \n",
    "Departamento de Engenharia Civil (DECIV)  \n",
    "ENG01007 - Análise Estrutural por Computador  \n",
    "*prof. Felipe Schaedler de Almeida*\n",
    "\n",
    "---"
   ]
  },
  {
   "cell_type": "code",
   "execution_count": 17,
   "metadata": {},
   "outputs": [],
   "source": [
    "# Importando os módulos do Python necessários para esse notebook.\n",
    "from math import *  # módulo com funções matemáticas\n",
    "\n",
    "import numpy as np  # módulo para operar com arrays\n",
    "import pandas as pd  # módulo para análise de dados\n",
    "\n",
    "import AECPy.procedimentos as pmm\n",
    "from AECPy.elemento import Elemento\n",
    "from AECPy.material import Material\n",
    "from AECPy.no import No\n",
    "from AECPy.secao import SecaoRetangular\n",
    "\n",
    "%matplotlib inline"
   ]
  },
  {
   "cell_type": "markdown",
   "metadata": {},
   "source": [
    "# Exemplo: Análise de um Pórtio Espacial com cargas distribuídas pelo MRD\n",
    "\n",
    "<img src=\"AEC_ex06.svg\" alt=\"Pórtico espacial do exemplo 06\" style=\"width:800px\">\n",
    "\n"
   ]
  },
  {
   "cell_type": "markdown",
   "metadata": {},
   "source": [
    "Dados do problema (forças em N e comprimentos em mm):"
   ]
  },
  {
   "cell_type": "code",
   "execution_count": 19,
   "metadata": {},
   "outputs": [],
   "source": [
    "# propriedade da seção transversal\n",
    "# altura\n",
    "h_sec = 500  # mm\n",
    "# largura\n",
    "b_sec = 200  # mm\n",
    "\n",
    "# propreidades do material\n",
    "modulo_elasticidade = 200.0e3\n",
    "modulo_cisalhamento = 77.0e3\n",
    "coef_poisson = modulo_elasticidade / (2 * modulo_cisalhamento) - 1\n",
    "\n",
    "# dimensões do modelo discreto (md)\n",
    "x_md = 3000.0\n",
    "y_md = 4000.0\n",
    "z_md = 5000.0"
   ]
  },
  {
   "cell_type": "markdown",
   "metadata": {},
   "source": [
    "### Defininição do caso analisado"
   ]
  },
  {
   "cell_type": "code",
   "execution_count": 20,
   "metadata": {},
   "outputs": [
    {
     "name": "stdout",
     "output_type": "stream",
     "text": [
      "    Caso c \n",
      " pz no3 = 0.0 N \n",
      " wz el1 = -30.0 N/mm  \n",
      " w2 el2 = -40.0 N/mm \n",
      " ang el2 = -60.0°\n"
     ]
    }
   ],
   "source": [
    "caso = \"c\"\n",
    "pz_no3 = 0.0\n",
    "wz_el1 = 0.0\n",
    "w3_el2 = 0.0\n",
    "ang_el2 = 0.0\n",
    "if caso == \"a\":\n",
    "    pz_no3 = -10.0e3  # N\n",
    "elif caso == \"b\":\n",
    "    wz_el1 = -30.0  # N/mm\n",
    "    w3_el2 = -40.0  # N/mm\n",
    "elif caso == \"c\":\n",
    "    wz_el1 = -30.0  # N/mm\n",
    "    w3_el2 = -40.0  # N/mm\n",
    "    ang_el2 = -60.0\n",
    "\n",
    "print(\n",
    "    \"    Caso {0} \\n pz no3 = {1} N \\n wz el1 = {2} N/mm  \\n w2 el2 = {3} N/mm \\n ang el2 = {4}°\".format(\n",
    "        caso, pz_no3, wz_el1, w3_el2, ang_el2\n",
    "    )\n",
    ")"
   ]
  },
  {
   "cell_type": "markdown",
   "metadata": {},
   "source": [
    "### Dados gerais da análise de pórtico espacial (P3D)\n"
   ]
  },
  {
   "cell_type": "code",
   "execution_count": 21,
   "metadata": {},
   "outputs": [
    {
     "data": {
      "text/plain": [
       "'Informações do nó:'"
      ]
     },
     "metadata": {},
     "output_type": "display_data"
    },
    {
     "data": {
      "text/plain": [
       "{'tipo': 'PE',\n",
       " 'ndim': 3,\n",
       " 'ngdl': 6,\n",
       " 'eixos locais': (1, 2, 3),\n",
       " 'eixos globais': ('x', 'y', 'z'),\n",
       " 'gdls globais': ('ux', 'uy', 'uz', 'rx', 'ry', 'rz'),\n",
       " 'gdls locais': ('u1', 'u2', 'u3', 'r1', 'r2', 'r3'),\n",
       " 'forças globais': ('fx', 'fy', 'fz', 'mx', 'my', 'mz')}"
      ]
     },
     "metadata": {},
     "output_type": "display_data"
    }
   ],
   "source": [
    "No.iniciar(\"PE\")\n",
    "display(\"Informações do nó:\", No.info())\n",
    "\n",
    "Elemento.iniciar(\"PE\")"
   ]
  },
  {
   "cell_type": "markdown",
   "metadata": {},
   "source": [
    "## Dados do problema (em objetos):\n",
    "Dados de entrada em objetos para aplicação no *procedimento geral* do método da rigidez direta\n",
    "\n",
    "<span style=\"color:blue\"> Os dados são armazenados em objetos definidos pelas classes `Material`, `Secao`, `No` e `Elemento` . <span>"
   ]
  },
  {
   "cell_type": "code",
   "execution_count": 22,
   "metadata": {},
   "outputs": [],
   "source": [
    "# materiais:\n",
    "mat1 = Material(modulo_elasticidade, coef_poisson, nome=\"Material do problema\")\n",
    "\n",
    "# seção transversal\n",
    "sec1 = SecaoRetangular(mat1, b_sec, h_sec, nome=\"Seçaõ retangular\")\n",
    "\n",
    "# nós-----------------coordenadas, apoios, cargas\n",
    "nos = []\n",
    "nos.append(No([0, 0, 0]))\n",
    "nos.append(No([0, 0, z_md]))\n",
    "nos.append(No([x_md, 0, z_md]))\n",
    "nos.append(No([x_md, y_md, z_md]))\n",
    "\n",
    "nos[0].definir_apoio(\"todos\")\n",
    "nos[3].definir_carga(fz=pz_no3)\n",
    "\n",
    "# elementos------------- conectividades, seção transversal, trechos rígidos, rotação dos eixos locais\n",
    "els = []\n",
    "els.append(Elemento(nos[0], nos[1], sec1))\n",
    "els.append(Elemento(nos[1], nos[2], sec1))\n",
    "els.append(Elemento(nos[2], nos[3], sec1))\n",
    "\n",
    "els[2].alterar_eixos_locais = ang_el2\n",
    "\n",
    "els[1].definir_carga(wz=wz_el1)\n",
    "els[2].definir_carga(w3=w3_el2)"
   ]
  },
  {
   "cell_type": "markdown",
   "metadata": {},
   "source": [
    "## Procedimento geral do Método da Rigidez Direta"
   ]
  },
  {
   "cell_type": "markdown",
   "metadata": {},
   "source": [
    "### 1) Cálculos preliminares"
   ]
  },
  {
   "cell_type": "markdown",
   "metadata": {},
   "source": [
    "#### 1.1) Cálculo do número total de gdl do problema"
   ]
  },
  {
   "cell_type": "code",
   "execution_count": 23,
   "metadata": {},
   "outputs": [],
   "source": [
    "# Número total de gdl da estrutura\n",
    "num_nos = len(nos)\n",
    "num_els = len(els)\n",
    "num_gdl_no = No.info(\"ngdl\")\n",
    "num_gdl_global = num_nos * num_gdl_no"
   ]
  },
  {
   "cell_type": "markdown",
   "metadata": {},
   "source": [
    "#### 1.2) Definição dos gdl de cada nó:\n",
    "\n",
    "- Os gdl são numerados segundo a ordem crescente da numeração dos nós.\n",
    "- As translações na $u_{xi}$ e $u_{yi}$ e a rotação $\\theta_{zi}$ são o primeiro, segundo e terceiro, respectivametne, gdl de cada nó $i$.\n",
    "- Os gdl são agrupados em gdl livres (superíndice $F$) e de apoio (superíndice $S$), de forma que o vetor de deslocamentos pode ser escrito como: $$ \\boldsymbol{d} = \\begin{Bmatrix} \\boldsymbol{d}^{F} \\\\ \\boldsymbol{d}^{S} \\end{Bmatrix}$$\n",
    "\n",
    "e o sistema glboal de equações fica:  \n",
    "\n",
    "$$ \\begin{bmatrix} \\boldsymbol{K}^{FF} & \\boldsymbol{K}^{FS} \\\\ \\boldsymbol{K}^{SF} & \\boldsymbol{K}^{SS} \\end{bmatrix} \\begin{Bmatrix} \\boldsymbol{d}^{F} \\\\ \\boldsymbol{d}^{S} \\end{Bmatrix} = \\begin{Bmatrix} \\boldsymbol{p}^{F} \\\\ \\boldsymbol{p}^{S} \\end{Bmatrix}$$\n",
    "\n",
    "<br/><br/> \n"
   ]
  },
  {
   "cell_type": "code",
   "execution_count": 24,
   "metadata": {},
   "outputs": [],
   "source": [
    "# atribuição dos gdl dos nós\n",
    "\n",
    "# transferindo os índices locais dos gdl restritos dos nós para a lista gdlr_no\n",
    "gdlr_no = [no.il_gdlr for no in nos]\n",
    "\n",
    "# definindo os índices globais dos gdl de cada nó\n",
    "igdl_no, (num_gdl_F, num_gdl_S) = pmm.igdl_FS(num_gdl_no, gdlr_no)\n",
    "\n",
    "# armazenando os índices globais dos gdl em cada nó\n",
    "for ino in range(num_nos):\n",
    "    nos[ino].igdl = igdl_no[ino]"
   ]
  },
  {
   "cell_type": "code",
   "execution_count": 25,
   "metadata": {},
   "outputs": [
    {
     "name": "stdout",
     "output_type": "stream",
     "text": [
      " Número total de gdls: 24\n",
      " Número total de gdls livres: 18\n",
      " Número total de gdls restritos: 6\n",
      "\n",
      " Índice global dos gdl de cada nó:\n",
      " no0 :[18, 19, 20, 21, 22, 23]\n",
      " no1 :[0, 1, 2, 3, 4, 5]\n",
      " no2 :[6, 7, 8, 9, 10, 11]\n",
      " no3 :[12, 13, 14, 15, 16, 17]\n"
     ]
    }
   ],
   "source": [
    "# Impressão dos gdl dos nós==================================================================================\n",
    "print(\" Número total de gdls:\", num_gdl_global)\n",
    "print(\" Número total de gdls livres:\", num_gdl_F)\n",
    "print(\" Número total de gdls restritos:\", num_gdl_S)\n",
    "print(\"\\n Índice global dos gdl de cada nó:\")\n",
    "for ino in range(num_nos):\n",
    "    print(f\" no{ino} :{nos[ino].igdl}\")"
   ]
  },
  {
   "cell_type": "markdown",
   "metadata": {},
   "source": [
    "### 2) Formação do sistema global de equações:"
   ]
  },
  {
   "cell_type": "markdown",
   "metadata": {},
   "source": [
    "#### 2.1) Cálculo da matriz de rigidez dos elementos ($\\boldsymbol{K}_e$) e montagem da matriz de rigidez global da estrutura ($\\boldsymbol{K}$):\n",
    "\n",
    " -  cálculo da matriz de rigidez segundo as coordenadas locais.\n",
    "-  transformação da matriz para os eixos globais usando a matriz de transformação $R$\n",
    "\n",
    "- Cada termo $K_{ij}$ da matriz de rigidez global $\\boldsymbol{K}$ relaciona a força externa $p_i$ na direção do gdl global $i$ ao deslocamento generalizado ($d_j$) na direção do gdl $j$.\n",
    "\n",
    "- Os termos são obtidos pela contribuição de cada elemento ($e$) que se conecta aos gdl $i$ e $j$:\n",
    "  $K_{ij} = \\sum_e K_{ij}^{(e)}$ \n",
    "\n",
    "#### 2.2) Cálculo do vetor de forças nodais equivalentes dos elementos ($\\boldsymbol{\\bar{p}}^{(e)}$)\n",
    "\n",
    "- cálculo do vetor de forças de engastamento perfeito ($\\boldsymbol{\\bar{q}'}^{(e)}$) para elementos com carga no interior.\n",
    "\n",
    "- transformação de $\\boldsymbol{\\bar{q}'}^{(e)}$ para coordenadas globais: $\\boldsymbol{\\bar{q}}^{(e)} = \\boldsymbol{R}^{(e)T} \\boldsymbol{\\bar{q}'}^{(e)}$\n",
    "\n",
    "- Vetor de forças nodais equivalentes do elemento $\\boldsymbol{\\bar{p}}^{(e)} = - \\boldsymbol{\\bar{q}}^{(e)}$\n",
    "\n",
    "- vetor global de forças nodais equivalentes pela contribuição de cada elemento ($e$) que se conecta aos gdl $i$: $\\boldsymbol{\\bar{p}}_i = \\sum_e \\boldsymbol{\\bar{p}}_i^{(e)}$\n"
   ]
  },
  {
   "cell_type": "code",
   "execution_count": 26,
   "metadata": {},
   "outputs": [],
   "source": [
    "# inciando a matriz de rigidez global com zeros\n",
    "K_global = np.zeros((num_gdl_global, num_gdl_global))\n",
    "fne = np.zeros(num_gdl_global)\n",
    "\n",
    "for el in els:\n",
    "    # matriz de rigidez do elemento em coordenadas locais\n",
    "    K_el_local = el.Ke_local()\n",
    "\n",
    "    # matriz de transformação de coordenadas global-local\n",
    "    R = el.R()\n",
    "\n",
    "    # cálculo da matriz de rigidez do elemento (no sistema global)\n",
    "    # transformação da matriz de rigidez para os eixos globais\n",
    "    K_el_global = pmm.transf_coord(K_el_local, R, inv=True)\n",
    "\n",
    "    # soma a contribuição do elememto à matriz de rigidez global\n",
    "    pmm.espalhar(K_el_global, K_global, el.igdl)\n",
    "\n",
    "    # Fornas nodais equivalentes em elementos carregados\n",
    "    if el.carregado:\n",
    "        # Reações de engastamento perfeito (rep) em coordenadas locais\n",
    "        rep_el_local = el.rep()\n",
    "        # rep em coordenadas globais\n",
    "        rep_el = pmm.transf_coord(rep_el_local, R, inv=True)\n",
    "        # somando ao vetor de forças nodais equivalentes\n",
    "        pmm.espalhar(-rep_el, fne, el.igdl)"
   ]
  },
  {
   "cell_type": "code",
   "execution_count": 27,
   "metadata": {},
   "outputs": [
    {
     "name": "stdout",
     "output_type": "stream",
     "text": [
      "\n",
      " K global: \n",
      " [[ 7.e+06  0.e+00  0.e+00  0.e+00 -1.e+08  0.e+00 -7.e+06  0.e+00  0.e+00  0.e+00  0.e+00  0.e+00\n",
      "   0.e+00  0.e+00  0.e+00  0.e+00  0.e+00  0.e+00 -4.e+04  0.e+00  0.e+00  0.e+00 -1.e+08  0.e+00]\n",
      " [ 0.e+00  4.e+04  0.e+00  2.e+07  0.e+00  4.e+07  0.e+00 -3.e+04  0.e+00  0.e+00  0.e+00  4.e+07\n",
      "   0.e+00  0.e+00  0.e+00  0.e+00  0.e+00  0.e+00  0.e+00 -6.e+03  0.e+00  2.e+07  0.e+00  0.e+00]\n",
      " [ 0.e+00  0.e+00  4.e+06  0.e+00 -3.e+08  0.e+00  0.e+00  0.e+00 -2.e+05  0.e+00 -3.e+08  0.e+00\n",
      "   0.e+00  0.e+00  0.e+00  0.e+00  0.e+00  0.e+00  0.e+00  0.e+00 -4.e+06  0.e+00  0.e+00  0.e+00]\n",
      " [ 0.e+00  2.e+07  0.e+00  8.e+10  0.e+00  0.e+00  0.e+00  0.e+00  0.e+00 -3.e+10  0.e+00  0.e+00\n",
      "   0.e+00  0.e+00  0.e+00  0.e+00  0.e+00  0.e+00  0.e+00 -2.e+07  0.e+00  3.e+10  0.e+00  0.e+00]\n",
      " [-1.e+08  0.e+00 -3.e+08  0.e+00  9.e+11  0.e+00  0.e+00  0.e+00  3.e+08  0.e+00  3.e+11  0.e+00\n",
      "   0.e+00  0.e+00  0.e+00  0.e+00  0.e+00  0.e+00  1.e+08  0.e+00  0.e+00  0.e+00  2.e+11  0.e+00]\n",
      " [ 0.e+00  4.e+07  0.e+00  0.e+00  0.e+00  1.e+11  0.e+00 -4.e+07  0.e+00  0.e+00  0.e+00  4.e+10\n",
      "   0.e+00  0.e+00  0.e+00  0.e+00  0.e+00  0.e+00  0.e+00  0.e+00  0.e+00  0.e+00  0.e+00 -2.e+10]\n",
      " [-7.e+06  0.e+00  0.e+00  0.e+00  0.e+00  0.e+00  7.e+06  0.e+00 -3.e+04 -6.e+07  0.e+00 -1.e+08\n",
      "  -6.e+04  0.e+00  3.e+04 -6.e+07  0.e+00 -1.e+08  0.e+00  0.e+00  0.e+00  0.e+00  0.e+00  0.e+00]\n",
      " [ 0.e+00 -3.e+04  0.e+00  0.e+00  0.e+00 -4.e+07  0.e+00  5.e+06  0.e+00  0.e+00  0.e+00 -4.e+07\n",
      "   0.e+00 -5.e+06  0.e+00  0.e+00  0.e+00  0.e+00  0.e+00  0.e+00  0.e+00  0.e+00  0.e+00  0.e+00]\n",
      " [ 0.e+00  0.e+00 -2.e+05  0.e+00  3.e+08  0.e+00 -3.e+04  0.e+00  2.e+05  6.e+07  3.e+08  6.e+07\n",
      "   3.e+04  0.e+00 -3.e+04  6.e+07  0.e+00  6.e+07  0.e+00  0.e+00  0.e+00  0.e+00  0.e+00  0.e+00]\n",
      " [ 0.e+00  0.e+00  0.e+00 -3.e+10  0.e+00  0.e+00 -6.e+07  0.e+00  6.e+07  2.e+11  0.e+00  2.e+11\n",
      "   6.e+07  0.e+00 -6.e+07  8.e+10  0.e+00  8.e+10  0.e+00  0.e+00  0.e+00  0.e+00  0.e+00  0.e+00]\n",
      " [ 0.e+00  0.e+00 -3.e+08  0.e+00  3.e+11  0.e+00  0.e+00  0.e+00  3.e+08  0.e+00  6.e+11  0.e+00\n",
      "   0.e+00  0.e+00  0.e+00  0.e+00 -2.e+10  0.e+00  0.e+00  0.e+00  0.e+00  0.e+00  0.e+00  0.e+00]\n",
      " [ 0.e+00  4.e+07  0.e+00  0.e+00  0.e+00  4.e+10 -1.e+08 -4.e+07  6.e+07  2.e+11  0.e+00  4.e+11\n",
      "   1.e+08  0.e+00 -6.e+07  8.e+10  0.e+00  2.e+11  0.e+00  0.e+00  0.e+00  0.e+00  0.e+00  0.e+00]\n",
      " [ 0.e+00  0.e+00  0.e+00  0.e+00  0.e+00  0.e+00 -6.e+04  0.e+00  3.e+04  6.e+07  0.e+00  1.e+08\n",
      "   6.e+04  0.e+00 -3.e+04  6.e+07  0.e+00  1.e+08  0.e+00  0.e+00  0.e+00  0.e+00  0.e+00  0.e+00]\n",
      " [ 0.e+00  0.e+00  0.e+00  0.e+00  0.e+00  0.e+00  0.e+00 -5.e+06  0.e+00  0.e+00  0.e+00  0.e+00\n",
      "   0.e+00  5.e+06  0.e+00  0.e+00  0.e+00  0.e+00  0.e+00  0.e+00  0.e+00  0.e+00  0.e+00  0.e+00]\n",
      " [ 0.e+00  0.e+00  0.e+00  0.e+00  0.e+00  0.e+00  3.e+04  0.e+00 -3.e+04 -6.e+07  0.e+00 -6.e+07\n",
      "  -3.e+04  0.e+00  3.e+04 -6.e+07  0.e+00 -6.e+07  0.e+00  0.e+00  0.e+00  0.e+00  0.e+00  0.e+00]\n",
      " [ 0.e+00  0.e+00  0.e+00  0.e+00  0.e+00  0.e+00 -6.e+07  0.e+00  6.e+07  8.e+10  0.e+00  8.e+10\n",
      "   6.e+07  0.e+00 -6.e+07  2.e+11  0.e+00  2.e+11  0.e+00  0.e+00  0.e+00  0.e+00  0.e+00  0.e+00]\n",
      " [ 0.e+00  0.e+00  0.e+00  0.e+00  0.e+00  0.e+00  0.e+00  0.e+00  0.e+00  0.e+00 -2.e+10  0.e+00\n",
      "   0.e+00  0.e+00  0.e+00  0.e+00  2.e+10  0.e+00  0.e+00  0.e+00  0.e+00  0.e+00  0.e+00  0.e+00]\n",
      " [ 0.e+00  0.e+00  0.e+00  0.e+00  0.e+00  0.e+00 -1.e+08  0.e+00  6.e+07  8.e+10  0.e+00  2.e+11\n",
      "   1.e+08  0.e+00 -6.e+07  2.e+11  0.e+00  3.e+11  0.e+00  0.e+00  0.e+00  0.e+00  0.e+00  0.e+00]\n",
      " [-4.e+04  0.e+00  0.e+00  0.e+00  1.e+08  0.e+00  0.e+00  0.e+00  0.e+00  0.e+00  0.e+00  0.e+00\n",
      "   0.e+00  0.e+00  0.e+00  0.e+00  0.e+00  0.e+00  4.e+04  0.e+00  0.e+00  0.e+00  1.e+08  0.e+00]\n",
      " [ 0.e+00 -6.e+03  0.e+00 -2.e+07  0.e+00  0.e+00  0.e+00  0.e+00  0.e+00  0.e+00  0.e+00  0.e+00\n",
      "   0.e+00  0.e+00  0.e+00  0.e+00  0.e+00  0.e+00  0.e+00  6.e+03  0.e+00 -2.e+07  0.e+00  0.e+00]\n",
      " [ 0.e+00  0.e+00 -4.e+06  0.e+00  0.e+00  0.e+00  0.e+00  0.e+00  0.e+00  0.e+00  0.e+00  0.e+00\n",
      "   0.e+00  0.e+00  0.e+00  0.e+00  0.e+00  0.e+00  0.e+00  0.e+00  4.e+06  0.e+00  0.e+00  0.e+00]\n",
      " [ 0.e+00  2.e+07  0.e+00  3.e+10  0.e+00  0.e+00  0.e+00  0.e+00  0.e+00  0.e+00  0.e+00  0.e+00\n",
      "   0.e+00  0.e+00  0.e+00  0.e+00  0.e+00  0.e+00  0.e+00 -2.e+07  0.e+00  5.e+10  0.e+00  0.e+00]\n",
      " [-1.e+08  0.e+00  0.e+00  0.e+00  2.e+11  0.e+00  0.e+00  0.e+00  0.e+00  0.e+00  0.e+00  0.e+00\n",
      "   0.e+00  0.e+00  0.e+00  0.e+00  0.e+00  0.e+00  1.e+08  0.e+00  0.e+00  0.e+00  3.e+11  0.e+00]\n",
      " [ 0.e+00  0.e+00  0.e+00  0.e+00  0.e+00 -2.e+10  0.e+00  0.e+00  0.e+00  0.e+00  0.e+00  0.e+00\n",
      "   0.e+00  0.e+00  0.e+00  0.e+00  0.e+00  0.e+00  0.e+00  0.e+00  0.e+00  0.e+00  0.e+00  2.e+10]]\n"
     ]
    }
   ],
   "source": [
    "# Impressão da matriz de rigidez global =============================================================\n",
    "with np.printoptions(precision=0, linewidth=100, suppress=True):\n",
    "    print(\"\\n K global: \\n\", K_global)"
   ]
  },
  {
   "cell_type": "code",
   "execution_count": 28,
   "metadata": {},
   "outputs": [
    {
     "name": "stdout",
     "output_type": "stream",
     "text": [
      "\n",
      " fne global: \n",
      " [        0.         0.    -45000.         0.  22500000.         0.    -40000.         0.   -114282.\n",
      " -46188022. -22500000.  26666667.    -40000.         0.    -69282.  46188022.         0. -26666667.\n",
      "         0.         0.         0.         0.         0.         0.]\n"
     ]
    }
   ],
   "source": [
    "# Impressão do vetor de forças nodais equivalentes\n",
    "# =============================================================\n",
    "with np.printoptions(precision=0, linewidth=100, suppress=True):\n",
    "    print(\"\\n fne global: \\n\", fne)"
   ]
  },
  {
   "cell_type": "markdown",
   "metadata": {},
   "source": [
    "#### 2.2) Formação do vetor de forças externas nodais ($\\boldsymbol{p}$)\n",
    " - \n",
    "    O vetor e forças nodais é formado pela soma das forças externas aplicadas nos nós ($\\boldsymbol{\\hat{p}}$) e as forças nodais equivalentes ($\\boldsymbol{\\bar{p}}$), calculadas em substiuição às forças distribuídas nos elementos: $$ \\boldsymbol{p} = \\boldsymbol{\\hat{p}}  + \\boldsymbol{\\bar{p}},$$\n"
   ]
  },
  {
   "cell_type": "code",
   "execution_count": 29,
   "metadata": {},
   "outputs": [],
   "source": [
    "P_global = np.zeros(num_gdl_global)\n",
    "\n",
    "# adicionando as forças nodais externas ao vetor de forçãs globais\n",
    "for no in nos:\n",
    "    if no.carregado:\n",
    "        pmm.espalhar(no.p, P_global, no.igdl)\n",
    "\n",
    "# adicionando o vetor de forças nodais equivalentes\n",
    "P_global += fne"
   ]
  },
  {
   "cell_type": "code",
   "execution_count": 30,
   "metadata": {},
   "outputs": [
    {
     "name": "stdout",
     "output_type": "stream",
     "text": [
      "\n",
      " P global: \n",
      " [ 0.000e+00  0.000e+00 -4.500e+04  0.000e+00  2.250e+07  0.000e+00 -4.000e+04  0.000e+00 -1.143e+05\n",
      " -4.619e+07 -2.250e+07  2.667e+07 -4.000e+04  0.000e+00 -6.928e+04  4.619e+07  0.000e+00 -2.667e+07\n",
      "  0.000e+00  0.000e+00  0.000e+00  0.000e+00  0.000e+00  0.000e+00]\n"
     ]
    }
   ],
   "source": [
    "# Impressão do vetor de forças externas\n",
    "with np.printoptions(precision=3, linewidth=100):\n",
    "    print(\"\\n P global: \\n\", P_global)"
   ]
  },
  {
   "cell_type": "markdown",
   "metadata": {},
   "source": [
    "### 3) Cálculo dos deslocamentos nodais pela solução do sistema global de equações\n",
    "\n",
    "Os deslocamentos livres $\\boldsymbol{d}^{F}$ são calculados resolvendo o sistema de equações reduzido \n",
    "$$ \\boldsymbol{K}^{FF} \\boldsymbol{d}^{F} = \\boldsymbol{p}^{F}$$"
   ]
  },
  {
   "cell_type": "code",
   "execution_count": 31,
   "metadata": {},
   "outputs": [],
   "source": [
    "d = np.zeros(num_gdl_global)  # vetor de deslocamentos nodias (total)\n",
    "\n",
    "d_F = d[:num_gdl_F]  # deslocamentos livres (aponta para o trecho de d)\n",
    "P_F = P_global[:num_gdl_F]  # forças nodais nos gdl livres\n",
    "K_FF = K_global[\n",
    "    :num_gdl_F, :num_gdl_F\n",
    "]  # coeficientes de rigides associando os gdl livres\n",
    "\n",
    "# solução do sistema de equações\n",
    "d_F[:] = np.linalg.solve(K_FF, P_F)\n",
    "\n",
    "# obs: d_F[:] deve ser usado para apontar para as posições dos gdl livres no vetor d (que armazena os resultados)"
   ]
  },
  {
   "cell_type": "code",
   "execution_count": 32,
   "metadata": {},
   "outputs": [
    {
     "ename": "ImportError",
     "evalue": "Missing optional dependency 'Jinja2'. DataFrame.style requires jinja2. Use pip or conda to install Jinja2.",
     "output_type": "error",
     "traceback": [
      "\u001b[1;31m---------------------------------------------------------------------------\u001b[0m",
      "\u001b[1;31mImportError\u001b[0m                               Traceback (most recent call last)",
      "\u001b[1;32mc:\\Users\\fsa\\anaconda3\\lib\\site-packages\\pandas\\compat\\_optional.py\u001b[0m in \u001b[0;36mimport_optional_dependency\u001b[1;34m(name, extra, errors, min_version)\u001b[0m\n\u001b[0;32m    140\u001b[0m     \u001b[1;32mtry\u001b[0m\u001b[1;33m:\u001b[0m\u001b[1;33m\u001b[0m\u001b[1;33m\u001b[0m\u001b[0m\n\u001b[1;32m--> 141\u001b[1;33m         \u001b[0mmodule\u001b[0m \u001b[1;33m=\u001b[0m \u001b[0mimportlib\u001b[0m\u001b[1;33m.\u001b[0m\u001b[0mimport_module\u001b[0m\u001b[1;33m(\u001b[0m\u001b[0mname\u001b[0m\u001b[1;33m)\u001b[0m\u001b[1;33m\u001b[0m\u001b[1;33m\u001b[0m\u001b[0m\n\u001b[0m\u001b[0;32m    142\u001b[0m     \u001b[1;32mexcept\u001b[0m \u001b[0mImportError\u001b[0m\u001b[1;33m:\u001b[0m\u001b[1;33m\u001b[0m\u001b[1;33m\u001b[0m\u001b[0m\n",
      "\u001b[1;32mc:\\Users\\fsa\\anaconda3\\lib\\importlib\\__init__.py\u001b[0m in \u001b[0;36mimport_module\u001b[1;34m(name, package)\u001b[0m\n\u001b[0;32m    126\u001b[0m             \u001b[0mlevel\u001b[0m \u001b[1;33m+=\u001b[0m \u001b[1;36m1\u001b[0m\u001b[1;33m\u001b[0m\u001b[1;33m\u001b[0m\u001b[0m\n\u001b[1;32m--> 127\u001b[1;33m     \u001b[1;32mreturn\u001b[0m \u001b[0m_bootstrap\u001b[0m\u001b[1;33m.\u001b[0m\u001b[0m_gcd_import\u001b[0m\u001b[1;33m(\u001b[0m\u001b[0mname\u001b[0m\u001b[1;33m[\u001b[0m\u001b[0mlevel\u001b[0m\u001b[1;33m:\u001b[0m\u001b[1;33m]\u001b[0m\u001b[1;33m,\u001b[0m \u001b[0mpackage\u001b[0m\u001b[1;33m,\u001b[0m \u001b[0mlevel\u001b[0m\u001b[1;33m)\u001b[0m\u001b[1;33m\u001b[0m\u001b[1;33m\u001b[0m\u001b[0m\n\u001b[0m\u001b[0;32m    128\u001b[0m \u001b[1;33m\u001b[0m\u001b[0m\n",
      "\u001b[1;32mc:\\Users\\fsa\\anaconda3\\lib\\importlib\\_bootstrap.py\u001b[0m in \u001b[0;36m_gcd_import\u001b[1;34m(name, package, level)\u001b[0m\n",
      "\u001b[1;32mc:\\Users\\fsa\\anaconda3\\lib\\importlib\\_bootstrap.py\u001b[0m in \u001b[0;36m_find_and_load\u001b[1;34m(name, import_)\u001b[0m\n",
      "\u001b[1;32mc:\\Users\\fsa\\anaconda3\\lib\\importlib\\_bootstrap.py\u001b[0m in \u001b[0;36m_find_and_load_unlocked\u001b[1;34m(name, import_)\u001b[0m\n",
      "\u001b[1;32mc:\\Users\\fsa\\anaconda3\\lib\\importlib\\_bootstrap.py\u001b[0m in \u001b[0;36m_load_unlocked\u001b[1;34m(spec)\u001b[0m\n",
      "\u001b[1;32mc:\\Users\\fsa\\anaconda3\\lib\\importlib\\_bootstrap_external.py\u001b[0m in \u001b[0;36mexec_module\u001b[1;34m(self, module)\u001b[0m\n",
      "\u001b[1;32mc:\\Users\\fsa\\anaconda3\\lib\\importlib\\_bootstrap.py\u001b[0m in \u001b[0;36m_call_with_frames_removed\u001b[1;34m(f, *args, **kwds)\u001b[0m\n",
      "\u001b[1;32mc:\\Users\\fsa\\anaconda3\\lib\\site-packages\\jinja2\\__init__.py\u001b[0m in \u001b[0;36m<module>\u001b[1;34m\u001b[0m\n\u001b[0;32m     11\u001b[0m \u001b[1;32mfrom\u001b[0m \u001b[1;33m.\u001b[0m\u001b[0mbccache\u001b[0m \u001b[1;32mimport\u001b[0m \u001b[0mMemcachedBytecodeCache\u001b[0m\u001b[1;33m\u001b[0m\u001b[1;33m\u001b[0m\u001b[0m\n\u001b[1;32m---> 12\u001b[1;33m \u001b[1;32mfrom\u001b[0m \u001b[1;33m.\u001b[0m\u001b[0menvironment\u001b[0m \u001b[1;32mimport\u001b[0m \u001b[0mEnvironment\u001b[0m\u001b[1;33m\u001b[0m\u001b[1;33m\u001b[0m\u001b[0m\n\u001b[0m\u001b[0;32m     13\u001b[0m \u001b[1;32mfrom\u001b[0m \u001b[1;33m.\u001b[0m\u001b[0menvironment\u001b[0m \u001b[1;32mimport\u001b[0m \u001b[0mTemplate\u001b[0m\u001b[1;33m\u001b[0m\u001b[1;33m\u001b[0m\u001b[0m\n",
      "\u001b[1;32mc:\\Users\\fsa\\anaconda3\\lib\\site-packages\\jinja2\\environment.py\u001b[0m in \u001b[0;36m<module>\u001b[1;34m\u001b[0m\n\u001b[0;32m     24\u001b[0m \u001b[1;32mfrom\u001b[0m \u001b[1;33m.\u001b[0m\u001b[0mcompiler\u001b[0m \u001b[1;32mimport\u001b[0m \u001b[0mgenerate\u001b[0m\u001b[1;33m\u001b[0m\u001b[1;33m\u001b[0m\u001b[0m\n\u001b[1;32m---> 25\u001b[1;33m \u001b[1;32mfrom\u001b[0m \u001b[1;33m.\u001b[0m\u001b[0mdefaults\u001b[0m \u001b[1;32mimport\u001b[0m \u001b[0mBLOCK_END_STRING\u001b[0m\u001b[1;33m\u001b[0m\u001b[1;33m\u001b[0m\u001b[0m\n\u001b[0m\u001b[0;32m     26\u001b[0m \u001b[1;32mfrom\u001b[0m \u001b[1;33m.\u001b[0m\u001b[0mdefaults\u001b[0m \u001b[1;32mimport\u001b[0m \u001b[0mBLOCK_START_STRING\u001b[0m\u001b[1;33m\u001b[0m\u001b[1;33m\u001b[0m\u001b[0m\n",
      "\u001b[1;32mc:\\Users\\fsa\\anaconda3\\lib\\site-packages\\jinja2\\defaults.py\u001b[0m in \u001b[0;36m<module>\u001b[1;34m\u001b[0m\n\u001b[0;32m      2\u001b[0m \u001b[1;32mfrom\u001b[0m \u001b[1;33m.\u001b[0m\u001b[0m_compat\u001b[0m \u001b[1;32mimport\u001b[0m \u001b[0mrange_type\u001b[0m\u001b[1;33m\u001b[0m\u001b[1;33m\u001b[0m\u001b[0m\n\u001b[1;32m----> 3\u001b[1;33m \u001b[1;32mfrom\u001b[0m \u001b[1;33m.\u001b[0m\u001b[0mfilters\u001b[0m \u001b[1;32mimport\u001b[0m \u001b[0mFILTERS\u001b[0m \u001b[1;32mas\u001b[0m \u001b[0mDEFAULT_FILTERS\u001b[0m  \u001b[1;31m# noqa: F401\u001b[0m\u001b[1;33m\u001b[0m\u001b[1;33m\u001b[0m\u001b[0m\n\u001b[0m\u001b[0;32m      4\u001b[0m \u001b[1;32mfrom\u001b[0m \u001b[1;33m.\u001b[0m\u001b[0mtests\u001b[0m \u001b[1;32mimport\u001b[0m \u001b[0mTESTS\u001b[0m \u001b[1;32mas\u001b[0m \u001b[0mDEFAULT_TESTS\u001b[0m  \u001b[1;31m# noqa: F401\u001b[0m\u001b[1;33m\u001b[0m\u001b[1;33m\u001b[0m\u001b[0m\n",
      "\u001b[1;32mc:\\Users\\fsa\\anaconda3\\lib\\site-packages\\jinja2\\filters.py\u001b[0m in \u001b[0;36m<module>\u001b[1;34m\u001b[0m\n\u001b[0;32m     12\u001b[0m \u001b[1;32mfrom\u001b[0m \u001b[0mmarkupsafe\u001b[0m \u001b[1;32mimport\u001b[0m \u001b[0mMarkup\u001b[0m\u001b[1;33m\u001b[0m\u001b[1;33m\u001b[0m\u001b[0m\n\u001b[1;32m---> 13\u001b[1;33m \u001b[1;32mfrom\u001b[0m \u001b[0mmarkupsafe\u001b[0m \u001b[1;32mimport\u001b[0m \u001b[0msoft_unicode\u001b[0m\u001b[1;33m\u001b[0m\u001b[1;33m\u001b[0m\u001b[0m\n\u001b[0m\u001b[0;32m     14\u001b[0m \u001b[1;33m\u001b[0m\u001b[0m\n",
      "\u001b[1;31mImportError\u001b[0m: cannot import name 'soft_unicode' from 'markupsafe' (c:\\Users\\fsa\\anaconda3\\lib\\site-packages\\markupsafe\\__init__.py)",
      "\nDuring handling of the above exception, another exception occurred:\n",
      "\u001b[1;31mImportError\u001b[0m                               Traceback (most recent call last)",
      "\u001b[1;32m~\\AppData\\Local\\Temp/ipykernel_1944/2907011920.py\u001b[0m in \u001b[0;36m<module>\u001b[1;34m\u001b[0m\n\u001b[0;32m      5\u001b[0m \u001b[1;33m\u001b[0m\u001b[0m\n\u001b[0;32m      6\u001b[0m \u001b[0md_no\u001b[0m \u001b[1;33m=\u001b[0m \u001b[0mpd\u001b[0m\u001b[1;33m.\u001b[0m\u001b[0mDataFrame\u001b[0m\u001b[1;33m(\u001b[0m\u001b[0mdeslocamentos_nodais\u001b[0m\u001b[1;33m,\u001b[0m \u001b[0mcolumns\u001b[0m \u001b[1;33m=\u001b[0m \u001b[0mNo\u001b[0m\u001b[1;33m.\u001b[0m\u001b[0minfo\u001b[0m\u001b[1;33m(\u001b[0m\u001b[1;34m'gdls globais'\u001b[0m\u001b[1;33m)\u001b[0m\u001b[1;33m)\u001b[0m\u001b[1;33m\u001b[0m\u001b[1;33m\u001b[0m\u001b[0m\n\u001b[1;32m----> 7\u001b[1;33m \u001b[0md_no\u001b[0m\u001b[1;33m.\u001b[0m\u001b[0mstyle\u001b[0m\u001b[1;33m.\u001b[0m\u001b[0mset_caption\u001b[0m\u001b[1;33m(\u001b[0m\u001b[1;34m'Deslocamentos nodais'\u001b[0m\u001b[1;33m)\u001b[0m\u001b[1;33m\u001b[0m\u001b[1;33m\u001b[0m\u001b[0m\n\u001b[0m",
      "\u001b[1;32mc:\\Users\\fsa\\anaconda3\\lib\\site-packages\\pandas\\core\\frame.py\u001b[0m in \u001b[0;36mstyle\u001b[1;34m(self)\u001b[0m\n\u001b[0;32m   1263\u001b[0m             \u001b[0mdata\u001b[0m \u001b[1;32mwith\u001b[0m \u001b[0mHTML\u001b[0m \u001b[1;32mand\u001b[0m \u001b[0mCSS\u001b[0m\u001b[1;33m.\u001b[0m\u001b[1;33m\u001b[0m\u001b[1;33m\u001b[0m\u001b[0m\n\u001b[0;32m   1264\u001b[0m         \"\"\"\n\u001b[1;32m-> 1265\u001b[1;33m         \u001b[1;32mfrom\u001b[0m \u001b[0mpandas\u001b[0m\u001b[1;33m.\u001b[0m\u001b[0mio\u001b[0m\u001b[1;33m.\u001b[0m\u001b[0mformats\u001b[0m\u001b[1;33m.\u001b[0m\u001b[0mstyle\u001b[0m \u001b[1;32mimport\u001b[0m \u001b[0mStyler\u001b[0m\u001b[1;33m\u001b[0m\u001b[1;33m\u001b[0m\u001b[0m\n\u001b[0m\u001b[0;32m   1266\u001b[0m \u001b[1;33m\u001b[0m\u001b[0m\n\u001b[0;32m   1267\u001b[0m         \u001b[1;32mreturn\u001b[0m \u001b[0mStyler\u001b[0m\u001b[1;33m(\u001b[0m\u001b[0mself\u001b[0m\u001b[1;33m)\u001b[0m\u001b[1;33m\u001b[0m\u001b[1;33m\u001b[0m\u001b[0m\n",
      "\u001b[1;32mc:\\Users\\fsa\\anaconda3\\lib\\site-packages\\pandas\\io\\formats\\style.py\u001b[0m in \u001b[0;36m<module>\u001b[1;34m\u001b[0m\n\u001b[0;32m     54\u001b[0m \u001b[1;32mfrom\u001b[0m \u001b[0mpandas\u001b[0m\u001b[1;33m.\u001b[0m\u001b[0mio\u001b[0m\u001b[1;33m.\u001b[0m\u001b[0mformats\u001b[0m\u001b[1;33m.\u001b[0m\u001b[0mformat\u001b[0m \u001b[1;32mimport\u001b[0m \u001b[0msave_to_buffer\u001b[0m\u001b[1;33m\u001b[0m\u001b[1;33m\u001b[0m\u001b[0m\n\u001b[0;32m     55\u001b[0m \u001b[1;33m\u001b[0m\u001b[0m\n\u001b[1;32m---> 56\u001b[1;33m \u001b[0mjinja2\u001b[0m \u001b[1;33m=\u001b[0m \u001b[0mimport_optional_dependency\u001b[0m\u001b[1;33m(\u001b[0m\u001b[1;34m\"jinja2\"\u001b[0m\u001b[1;33m,\u001b[0m \u001b[0mextra\u001b[0m\u001b[1;33m=\u001b[0m\u001b[1;34m\"DataFrame.style requires jinja2.\"\u001b[0m\u001b[1;33m)\u001b[0m\u001b[1;33m\u001b[0m\u001b[1;33m\u001b[0m\u001b[0m\n\u001b[0m\u001b[0;32m     57\u001b[0m \u001b[1;33m\u001b[0m\u001b[0m\n\u001b[0;32m     58\u001b[0m from pandas.io.formats.style_render import (\n",
      "\u001b[1;32mc:\\Users\\fsa\\anaconda3\\lib\\site-packages\\pandas\\compat\\_optional.py\u001b[0m in \u001b[0;36mimport_optional_dependency\u001b[1;34m(name, extra, errors, min_version)\u001b[0m\n\u001b[0;32m    142\u001b[0m     \u001b[1;32mexcept\u001b[0m \u001b[0mImportError\u001b[0m\u001b[1;33m:\u001b[0m\u001b[1;33m\u001b[0m\u001b[1;33m\u001b[0m\u001b[0m\n\u001b[0;32m    143\u001b[0m         \u001b[1;32mif\u001b[0m \u001b[0merrors\u001b[0m \u001b[1;33m==\u001b[0m \u001b[1;34m\"raise\"\u001b[0m\u001b[1;33m:\u001b[0m\u001b[1;33m\u001b[0m\u001b[1;33m\u001b[0m\u001b[0m\n\u001b[1;32m--> 144\u001b[1;33m             \u001b[1;32mraise\u001b[0m \u001b[0mImportError\u001b[0m\u001b[1;33m(\u001b[0m\u001b[0mmsg\u001b[0m\u001b[1;33m)\u001b[0m\u001b[1;33m\u001b[0m\u001b[1;33m\u001b[0m\u001b[0m\n\u001b[0m\u001b[0;32m    145\u001b[0m         \u001b[1;32melse\u001b[0m\u001b[1;33m:\u001b[0m\u001b[1;33m\u001b[0m\u001b[1;33m\u001b[0m\u001b[0m\n\u001b[0;32m    146\u001b[0m             \u001b[1;32mreturn\u001b[0m \u001b[1;32mNone\u001b[0m\u001b[1;33m\u001b[0m\u001b[1;33m\u001b[0m\u001b[0m\n",
      "\u001b[1;31mImportError\u001b[0m: Missing optional dependency 'Jinja2'. DataFrame.style requires jinja2. Use pip or conda to install Jinja2."
     ]
    }
   ],
   "source": [
    "# Impressão dos deslocamentos de cada nó (através de um DataFrame do 'pandas')\n",
    "deslocamentos_nodais = []\n",
    "for no in nos:\n",
    "    deslocamentos_nodais.append(pmm.reunir(d, no.igdl))\n",
    "\n",
    "d_no = pd.DataFrame(deslocamentos_nodais, columns=No.info(\"gdls globais\"))\n",
    "d_no.style.set_caption(\"Deslocamentos nodais\")"
   ]
  },
  {
   "cell_type": "markdown",
   "metadata": {},
   "source": [
    "### 4) Cálculo das quantidades de interesse com base nos deslocamentos nodais:"
   ]
  },
  {
   "cell_type": "markdown",
   "metadata": {},
   "source": [
    "#### 4.1) Cálculo das reações de apoio nos gdl impedidos:  \n",
    "- As reações de apoio são obtidas por: $$ R = \\boldsymbol{K}^{SF} \\boldsymbol{d}^{F}- \\boldsymbol{p}^{S}$$"
   ]
  },
  {
   "cell_type": "code",
   "execution_count": null,
   "metadata": {},
   "outputs": [],
   "source": [
    "K_SF = K_global[-num_gdl_S:, :-num_gdl_S]\n",
    "P_S = P_global[-num_gdl_S:]\n",
    "Reacoes = K_SF @ d_F - P_S"
   ]
  },
  {
   "cell_type": "code",
   "execution_count": null,
   "metadata": {},
   "outputs": [
    {
     "data": {
      "text/html": [
       "<style type=\"text/css\">\n",
       "</style>\n",
       "<table id=\"T_64489\">\n",
       "  <caption>Reações</caption>\n",
       "  <thead>\n",
       "    <tr>\n",
       "      <th class=\"blank level0\" >&nbsp;</th>\n",
       "      <th id=\"T_64489_level0_col0\" class=\"col_heading level0 col0\" >fx</th>\n",
       "      <th id=\"T_64489_level0_col1\" class=\"col_heading level0 col1\" >fy</th>\n",
       "      <th id=\"T_64489_level0_col2\" class=\"col_heading level0 col2\" >fz</th>\n",
       "      <th id=\"T_64489_level0_col3\" class=\"col_heading level0 col3\" >mx</th>\n",
       "      <th id=\"T_64489_level0_col4\" class=\"col_heading level0 col4\" >my</th>\n",
       "      <th id=\"T_64489_level0_col5\" class=\"col_heading level0 col5\" >mz</th>\n",
       "    </tr>\n",
       "  </thead>\n",
       "  <tbody>\n",
       "    <tr>\n",
       "      <th id=\"T_64489_level0_row0\" class=\"row_heading level0 row0\" >0</th>\n",
       "      <td id=\"T_64489_row0_col0\" class=\"data row0 col0\" >80000.000000</td>\n",
       "      <td id=\"T_64489_row0_col1\" class=\"data row0 col1\" >-0.000000</td>\n",
       "      <td id=\"T_64489_row0_col2\" class=\"data row0 col2\" >228564.064606</td>\n",
       "      <td id=\"T_64489_row0_col3\" class=\"data row0 col3\" >277128129.211416</td>\n",
       "      <td id=\"T_64489_row0_col4\" class=\"data row0 col4\" >-150692193.816429</td>\n",
       "      <td id=\"T_64489_row0_col5\" class=\"data row0 col5\" >-160000000.000243</td>\n",
       "    </tr>\n",
       "  </tbody>\n",
       "</table>\n"
      ],
      "text/plain": [
       "<pandas.io.formats.style.Styler at 0x2252e69c150>"
      ]
     },
     "execution_count": 17,
     "metadata": {},
     "output_type": "execute_result"
    }
   ],
   "source": [
    "# Impressão das reações (através de um DataFrame do 'pandas')\n",
    "reacoes = dict()\n",
    "forcas_nodais = No.info(\"forças globais\")\n",
    "for ino, no in enumerate(nos):\n",
    "    r_no = {ino: dict()}\n",
    "    if no.ngdlr > 0:\n",
    "        for il, ig in zip(no.il_gdlr, no.igdlr):\n",
    "            r_no[ino][forcas_nodais[il]] = Reacoes[ig - num_gdl_F]\n",
    "        reacoes.update(r_no)\n",
    "\n",
    "r_no = pd.DataFrame(reacoes)\n",
    "r_no = r_no.transpose()\n",
    "r_no.style.set_caption(\"Reações\")"
   ]
  },
  {
   "cell_type": "markdown",
   "metadata": {},
   "source": [
    "#### 4.2) Cálculo dos deslocamentos e esforços nos elementos:\n",
    "\n",
    "Os esforços nos elementos são dados pela soma dos efeitos globais (calculados em função deslocamentos nodais) e os efeitos locais (calculados a partir das forças distribuídas nos elementos).\n",
    "\n",
    "- em cada elemento (e), os deslocamentos nodais geleralizados ($\\boldsymbol{d'}^{(e)}$) em cada nó de extremidade (i,j) do elemento segundo os eixos locais por\n",
    "\n",
    "$$\n",
    "\\begin{equation}\n",
    "    \\boldsymbol{d'}^{(e)} =  \n",
    "    \\begin{Bmatrix} \\boldsymbol{d'}_i \\\\ \\boldsymbol{d'}_j \\end{Bmatrix} =\n",
    "    \\boldsymbol{R}^{(e)} \\boldsymbol{d}^{(e)} =\n",
    "    \\begin{Bmatrix}\n",
    "    \\boldsymbol{R} \\boldsymbol{u}_i \\\\\n",
    "    \\boldsymbol{R} \\boldsymbol{\\theta}_i \\\\\n",
    "    \\boldsymbol{R} \\boldsymbol{u}_j \\\\\n",
    "    \\boldsymbol{R}\\boldsymbol{\\theta}_j \\end{Bmatrix}\n",
    "\\end{equation}\n",
    "$$\n",
    "\n",
    "com  $\\boldsymbol{u}_i = \\{ u_{xi} , u_{yi} , u_{zi} \\}^T$ e $\\boldsymbol{\\theta}_i = \\{ \\theta_{xi} , \\theta_{yi}  , \\theta_{zi} \\}^T$.\n",
    "\n",
    "<br><br>\n",
    "\n",
    "A partir dos deslocamentos nodais segundo os eixos locais do elemento ($\\boldsymbol{d'}^{(e)}$), é possível calcular os deslocamentos ($\\boldsymbol{u'}_i = \\{ u_{1i} , u_{2i} , u_{3i} \\}^T$ e $\\boldsymbol{\\theta'}_i = \\{ \\theta_{1i} , \\theta_{2i}  , \\theta_{3i} \\}^T$) e os esforços ($N, V_2, M_3$) em qualquer ponto de coordenada $x$ no elemento, através das seguines equações em termos da variável adimensional $\\xi = \\dfrac{x}{L}$:\n",
    "\n",
    "\\begin{align*}\n",
    "u_2(\\xi) \t&= \\left( 2 \\xi^3 - 3 \\xi^2 + 1 \\right) u_{2i} \n",
    "\t\t+ \\left(   \\xi^3 - 2 \\xi^2 + \\xi \\right) L \\theta_{3i} \\\\\n",
    "\t\t&- \\left( 2 \\xi^3 - 3 \\xi^2 \\right) u_{2j}\n",
    "\t\t+ \\left(   \\xi^3 -     \\xi^2 \\right) L \\theta_{3j}\n",
    "\\end{align*}\n",
    "\n",
    "<br><br>\n",
    "\n",
    "\\begin{align*}\n",
    "\\theta_3(\\xi) \t&= 6 \\left(  \\xi^2 -  \\xi     \\right) \\dfrac{u_{2i}}{L}\n",
    "\t\t +   \\left( 3\\xi^2 - 4\\xi + 1 \\right) \\theta_{3i} \\\\[2pt]\n",
    "\t\t&-6  \\left(  \\xi^2 -  \\xi     \\right) \\dfrac{u_{2j}}{L}\n",
    "\t\t +   \\left( 3\\xi^2 - 2\\xi     \\right) \\theta_{3j}\n",
    "\\end{align*}\n",
    "\n",
    "<br><br>\n",
    "\n",
    "$$\n",
    "V_2(\\xi) = - \\dfrac{EI_3}{L^2} \\left[ 12 \\dfrac{u_{2i}}{L}  + 6 \\theta_{3i}  \n",
    "\t\t   - 12 \\dfrac{u_{2j}}{L}  + 6  \\theta_{3j} \\right]\n",
    "$$\n",
    "\n",
    "<br><br>\n",
    "\n",
    "\\begin{align*}\n",
    "M_3(\\xi) = \\dfrac{EI_3}{L} & \\left[ 6 \\left(  2\\xi - 1 \\right) \\dfrac{u_{2i}}{L} \\right.\n",
    "\t\t + 2 \\left(  3\\xi - 2 \\right) \\theta_{3i} \\\\[10pt]\n",
    "\t\t& \\left. -  6 \\left(  2\\xi - 1 \\right)\\dfrac{u_{2j}}{L}\n",
    "\t\t +  2 \\left(  3\\xi - 1 \\right) \\theta_{3j}  \\right]\n",
    "\\end{align*}\n",
    "\n",
    "\n",
    "\n",
    "- <span style=\"color:blue\"> O efeitos local das **cargas distribuídas no elemento** são dadas por: <span>\n",
    "\n",
    "$${u_2}(\\xi)\n",
    "= \\dfrac{w_{2i}L^4}{24EI_3}       \\left( \\xi^4 - 2 \\xi^3 + \\xi^2\\right)\n",
    "+ \\dfrac{\\Delta w_{2}L^4}{120EI_3} \\left( \\xi^5 - 3 \\xi^3 + 2 \\xi^2 \\right)$$\n",
    "\n",
    "<br>\n",
    "\n",
    "$${\\theta_3}(\\xi)\n",
    "= \\dfrac{w_{2i}L^3}{12EI_3}       \\left( 2\\xi^3 - 3 \\xi^2 + \\xi \\right)\n",
    "+ \\dfrac{\\Delta w_{2}L^3}{120EI_3} \\left( 5\\xi^4 - 9 \\xi^2 + 4 \\xi \\right)$$\n",
    "\n",
    "<br>\n",
    "\n",
    "$$V_2(\\xi)\n",
    "= \\dfrac{w_{2i}L}{2}\\left( 1- 2\\xi \\right)\n",
    "+ \\dfrac{\\Delta w_{2}L}{20} \\left( 3 - 10 \\xi^2 \\right)$$\n",
    "\n",
    "\n",
    "$$\n",
    "M_3(\\xi) = \\dfrac{ w_{2i} L^2 }{12} \\left( 6\\xi^2 - 6\\xi + 1 \\right) + \\dfrac{\\Delta w_{2}L^2}{60} \\left( 10\\xi^3 - 9 \\xi + 2 \\right) \n",
    "$$"
   ]
  },
  {
   "cell_type": "code",
   "execution_count": null,
   "metadata": {},
   "outputs": [],
   "source": [
    "# Calculando os resultados (esforços e deslocamentos) nos elementos\n",
    "\n",
    "# Número de pontos (igualmente espaçados) para cálculo dos esforços e deslocamentos no elemento\n",
    "npt_rel = 5\n",
    "# lista para armazenar os resultados de cada elemento\n",
    "resultados_el = []\n",
    "for iel, el in enumerate(els):\n",
    "    # coordendas dos pontos igualmente espaçados ao longo do elemento onde são calculados os resultados\n",
    "    x_rel = np.linspace(0, el.L, npt_rel)\n",
    "    # deslocamentos do elemento em coordenadas locais\n",
    "    dl = el.dl(d)\n",
    "    # cálculo dos resultados nos pontos x_rel\n",
    "    resultados_el.append(el.rel(dl, x_rel))"
   ]
  },
  {
   "cell_type": "code",
   "execution_count": null,
   "metadata": {},
   "outputs": [
    {
     "name": "stdout",
     "output_type": "stream",
     "text": [
      "Valor de u2 no ponto 3 de coordenada x=3750.0 do elemento 0: 4.230430770652653\n"
     ]
    }
   ],
   "source": [
    "# exemplo de impressão de um reultado\n",
    "quantidade = \"u2\"\n",
    "iel = 0\n",
    "ponto = 3\n",
    "print(\n",
    "    f\"Valor de {quantidade} no ponto {ponto} de coordenada x={resultados_el[iel]['x'][ponto]} do elemento {iel}: {resultados_el[iel][quantidade][ponto]}\"\n",
    ")"
   ]
  },
  {
   "cell_type": "code",
   "execution_count": null,
   "metadata": {},
   "outputs": [
    {
     "name": "stdout",
     "output_type": "stream",
     "text": [
      "\n",
      " Elemento 2:\n"
     ]
    },
    {
     "data": {
      "text/html": [
       "<div>\n",
       "<style scoped>\n",
       "    .dataframe tbody tr th:only-of-type {\n",
       "        vertical-align: middle;\n",
       "    }\n",
       "\n",
       "    .dataframe tbody tr th {\n",
       "        vertical-align: top;\n",
       "    }\n",
       "\n",
       "    .dataframe thead th {\n",
       "        text-align: right;\n",
       "    }\n",
       "</style>\n",
       "<table border=\"1\" class=\"dataframe\">\n",
       "  <thead>\n",
       "    <tr style=\"text-align: right;\">\n",
       "      <th></th>\n",
       "      <th>0</th>\n",
       "      <th>1</th>\n",
       "      <th>2</th>\n",
       "      <th>3</th>\n",
       "      <th>4</th>\n",
       "    </tr>\n",
       "  </thead>\n",
       "  <tbody>\n",
       "    <tr>\n",
       "      <th>x</th>\n",
       "      <td>0.000000e+00</td>\n",
       "      <td>1.000000e+03</td>\n",
       "      <td>2.000000e+03</td>\n",
       "      <td>3.000000e+03</td>\n",
       "      <td>4.000000e+03</td>\n",
       "    </tr>\n",
       "    <tr>\n",
       "      <th>u1</th>\n",
       "      <td>9.399125e+01</td>\n",
       "      <td>9.399125e+01</td>\n",
       "      <td>9.399125e+01</td>\n",
       "      <td>9.399125e+01</td>\n",
       "      <td>9.399125e+01</td>\n",
       "    </tr>\n",
       "    <tr>\n",
       "      <th>N</th>\n",
       "      <td>-7.105427e-08</td>\n",
       "      <td>-7.105427e-08</td>\n",
       "      <td>-7.105427e-08</td>\n",
       "      <td>-7.105427e-08</td>\n",
       "      <td>-7.105427e-08</td>\n",
       "    </tr>\n",
       "    <tr>\n",
       "      <th>r1</th>\n",
       "      <td>6.028798e-03</td>\n",
       "      <td>6.028798e-03</td>\n",
       "      <td>6.028798e-03</td>\n",
       "      <td>6.028798e-03</td>\n",
       "      <td>6.028798e-03</td>\n",
       "    </tr>\n",
       "    <tr>\n",
       "      <th>Mt</th>\n",
       "      <td>0.000000e+00</td>\n",
       "      <td>0.000000e+00</td>\n",
       "      <td>0.000000e+00</td>\n",
       "      <td>0.000000e+00</td>\n",
       "      <td>0.000000e+00</td>\n",
       "    </tr>\n",
       "    <tr>\n",
       "      <th>u2</th>\n",
       "      <td>-1.557083e+01</td>\n",
       "      <td>-1.612165e+01</td>\n",
       "      <td>-1.667248e+01</td>\n",
       "      <td>-1.722330e+01</td>\n",
       "      <td>-1.777412e+01</td>\n",
       "    </tr>\n",
       "    <tr>\n",
       "      <th>r3</th>\n",
       "      <td>-5.508239e-04</td>\n",
       "      <td>-5.508239e-04</td>\n",
       "      <td>-5.508239e-04</td>\n",
       "      <td>-5.508239e-04</td>\n",
       "      <td>-5.508239e-04</td>\n",
       "    </tr>\n",
       "    <tr>\n",
       "      <th>V2</th>\n",
       "      <td>-9.714451e-10</td>\n",
       "      <td>-9.714451e-10</td>\n",
       "      <td>-9.714451e-10</td>\n",
       "      <td>-9.714451e-10</td>\n",
       "      <td>-9.714451e-10</td>\n",
       "    </tr>\n",
       "    <tr>\n",
       "      <th>M3</th>\n",
       "      <td>-4.708767e-06</td>\n",
       "      <td>-3.695488e-06</td>\n",
       "      <td>-2.710505e-06</td>\n",
       "      <td>-1.728535e-06</td>\n",
       "      <td>-7.152557e-07</td>\n",
       "    </tr>\n",
       "    <tr>\n",
       "      <th>u3</th>\n",
       "      <td>-9.951936e+00</td>\n",
       "      <td>-4.815081e+01</td>\n",
       "      <td>-8.909968e+01</td>\n",
       "      <td>-1.312986e+02</td>\n",
       "      <td>-1.738474e+02</td>\n",
       "    </tr>\n",
       "    <tr>\n",
       "      <th>r2</th>\n",
       "      <td>-3.617387e-02</td>\n",
       "      <td>-3.927387e-02</td>\n",
       "      <td>-4.177387e-02</td>\n",
       "      <td>-4.307387e-02</td>\n",
       "      <td>-4.257387e-02</td>\n",
       "    </tr>\n",
       "    <tr>\n",
       "      <th>V3</th>\n",
       "      <td>-1.600000e+05</td>\n",
       "      <td>-1.200000e+05</td>\n",
       "      <td>-8.000000e+04</td>\n",
       "      <td>-4.000000e+04</td>\n",
       "      <td>-7.858034e-10</td>\n",
       "    </tr>\n",
       "    <tr>\n",
       "      <th>M2</th>\n",
       "      <td>-3.200000e+08</td>\n",
       "      <td>-1.800000e+08</td>\n",
       "      <td>-8.000000e+07</td>\n",
       "      <td>-2.000000e+07</td>\n",
       "      <td>1.110137e-06</td>\n",
       "    </tr>\n",
       "  </tbody>\n",
       "</table>\n",
       "</div>"
      ],
      "text/plain": [
       "               0             1             2             3             4\n",
       "x   0.000000e+00  1.000000e+03  2.000000e+03  3.000000e+03  4.000000e+03\n",
       "u1  9.399125e+01  9.399125e+01  9.399125e+01  9.399125e+01  9.399125e+01\n",
       "N  -7.105427e-08 -7.105427e-08 -7.105427e-08 -7.105427e-08 -7.105427e-08\n",
       "r1  6.028798e-03  6.028798e-03  6.028798e-03  6.028798e-03  6.028798e-03\n",
       "Mt  0.000000e+00  0.000000e+00  0.000000e+00  0.000000e+00  0.000000e+00\n",
       "u2 -1.557083e+01 -1.612165e+01 -1.667248e+01 -1.722330e+01 -1.777412e+01\n",
       "r3 -5.508239e-04 -5.508239e-04 -5.508239e-04 -5.508239e-04 -5.508239e-04\n",
       "V2 -9.714451e-10 -9.714451e-10 -9.714451e-10 -9.714451e-10 -9.714451e-10\n",
       "M3 -4.708767e-06 -3.695488e-06 -2.710505e-06 -1.728535e-06 -7.152557e-07\n",
       "u3 -9.951936e+00 -4.815081e+01 -8.909968e+01 -1.312986e+02 -1.738474e+02\n",
       "r2 -3.617387e-02 -3.927387e-02 -4.177387e-02 -4.307387e-02 -4.257387e-02\n",
       "V3 -1.600000e+05 -1.200000e+05 -8.000000e+04 -4.000000e+04 -7.858034e-10\n",
       "M2 -3.200000e+08 -1.800000e+08 -8.000000e+07 -2.000000e+07  1.110137e-06"
      ]
     },
     "metadata": {},
     "output_type": "display_data"
    }
   ],
   "source": [
    "# imprimindo todos os resultados em um elemetno elemento (através de um 'DataFrame' do pacote 'pandas')\n",
    "iel = 2\n",
    "print(f\"\\n Elemento {iel}:\")\n",
    "res_iel = pd.DataFrame(resultados_el[iel])\n",
    "display(res_iel.T)"
   ]
  },
  {
   "cell_type": "markdown",
   "metadata": {},
   "source": [
    "### Exemplos de emprego do módulo `gráficos` e `unidades`"
   ]
  },
  {
   "cell_type": "code",
   "execution_count": null,
   "metadata": {},
   "outputs": [
    {
     "ename": "ModuleNotFoundError",
     "evalue": "No module named 'graficos'",
     "output_type": "error",
     "traceback": [
      "\u001b[1;31m---------------------------------------------------------------------------\u001b[0m",
      "\u001b[1;31mModuleNotFoundError\u001b[0m                       Traceback (most recent call last)",
      "Cell \u001b[1;32mIn[21], line 2\u001b[0m\n\u001b[0;32m      1\u001b[0m \u001b[38;5;66;03m#importando o módulo gráficos como gr\u001b[39;00m\n\u001b[1;32m----> 2\u001b[0m \u001b[38;5;28;01mimport\u001b[39;00m \u001b[38;5;21;01mgraficos\u001b[39;00m \u001b[38;5;28;01mas\u001b[39;00m \u001b[38;5;21;01mgr\u001b[39;00m\n\u001b[0;32m      3\u001b[0m \u001b[38;5;66;03m#importando a classe Conversor do módulo unidades\u001b[39;00m\n\u001b[0;32m      4\u001b[0m \u001b[38;5;28;01mfrom\u001b[39;00m \u001b[38;5;21;01munidades\u001b[39;00m \u001b[38;5;28;01mimport\u001b[39;00m Conversor\n",
      "\u001b[1;31mModuleNotFoundError\u001b[0m: No module named 'graficos'"
     ]
    }
   ],
   "source": [
    "# importando o módulo gráficos como gr\n",
    "import graficos as gr\n",
    "\n",
    "# importando a classe Conversor do módulo unidades\n",
    "from unidades import Conversor"
   ]
  },
  {
   "cell_type": "code",
   "execution_count": null,
   "metadata": {},
   "outputs": [],
   "source": [
    "# Criando um coversor com unidades padrão de força e comprimento iguais às adotadas na análise\n",
    "uni = Conversor(up_comprimento=\"mm\", up_forca=\"N\")"
   ]
  },
  {
   "cell_type": "code",
   "execution_count": null,
   "metadata": {},
   "outputs": [],
   "source": [
    "# Criando diagramas com todos os reusultados e sem conversão de unidades\n",
    "fig_diagrama = gr.diagramas(resultados_el[iel])"
   ]
  },
  {
   "cell_type": "code",
   "execution_count": null,
   "metadata": {},
   "outputs": [],
   "source": [
    "# Criando diagramas para os resultados relativos à flexão em torno do eixo local 3 do elemento e com conversão de unidades para o padrão de saída definido no módulo 'graficos'AEC_ex06.ipynb\n",
    "fig_diagrama = gr.diagramas(resultados_el[1], [\"u2\", \"V2\", \"M3\"], conv=uni)"
   ]
  },
  {
   "cell_type": "code",
   "execution_count": null,
   "metadata": {},
   "outputs": [],
   "source": [
    "# criando uma figura com a represtnação 3D do modelo estrutural\n",
    "fig_modelo = gr.modelo_3d(nos, els)"
   ]
  }
 ],
 "metadata": {
  "kernelspec": {
   "display_name": "base",
   "language": "python",
   "name": "python3"
  },
  "language_info": {
   "codemirror_mode": {
    "name": "ipython",
    "version": 3
   },
   "file_extension": ".py",
   "mimetype": "text/x-python",
   "name": "python",
   "nbconvert_exporter": "python",
   "pygments_lexer": "ipython3",
   "version": "3.9.21"
  }
 },
 "nbformat": 4,
 "nbformat_minor": 4
}
